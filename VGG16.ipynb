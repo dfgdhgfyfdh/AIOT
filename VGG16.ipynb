{
  "nbformat": 4,
  "nbformat_minor": 0,
  "metadata": {
    "colab": {
      "provenance": [],
      "gpuType": "T4"
    },
    "kernelspec": {
      "name": "python3",
      "display_name": "Python 3"
    },
    "language_info": {
      "name": "python"
    },
    "accelerator": "GPU"
  },
  "cells": [
    {
      "cell_type": "code",
      "execution_count": 1,
      "metadata": {
        "colab": {
          "base_uri": "https://localhost:8080/"
        },
        "id": "aqiCSsAwpGiK",
        "outputId": "eaa85a83-f145-4b2a-bf45-33a9be73e1a3"
      },
      "outputs": [
        {
          "output_type": "stream",
          "name": "stdout",
          "text": [
            "Mounted at /content/drive\n"
          ]
        }
      ],
      "source": [
        "from google.colab import drive\n",
        "\n",
        "drive.mount('/content/drive')"
      ]
    },
    {
      "cell_type": "code",
      "source": [
        "!ls"
      ],
      "metadata": {
        "colab": {
          "base_uri": "https://localhost:8080/"
        },
        "id": "VvE8xkZ_qHt9",
        "outputId": "9c092b5b-dafb-4f9c-9dc3-3f5440151852"
      },
      "execution_count": 2,
      "outputs": [
        {
          "output_type": "stream",
          "name": "stdout",
          "text": [
            "drive  sample_data\n"
          ]
        }
      ]
    },
    {
      "cell_type": "code",
      "source": [
        "%cd /content/drive/MyDrive\n",
        "!ls"
      ],
      "metadata": {
        "colab": {
          "base_uri": "https://localhost:8080/"
        },
        "id": "76L6W6KMqRrm",
        "outputId": "2b78bd63-1e2e-4da7-9dbb-52b89e898883"
      },
      "execution_count": 3,
      "outputs": [
        {
          "output_type": "stream",
          "name": "stdout",
          "text": [
            "/content/drive/MyDrive\n",
            "'015442『審查資料預覽檔』 (1) (1).gdoc'\n",
            "'015442『審查資料預覽檔』 (1) (1).pdf'\n",
            " 0226程式設計.drawio\n",
            " 0324雲端計算.gdoc\n",
            "'0930 notebooklm.gdoc'\n",
            " 1013_python筆記.gdoc\n",
            " 1020筆記.gdoc\n",
            " 1020筆記.gslides\n",
            "'112級新鮮人成長營專題簡報_第8組pptx 的副本.pdf'\n",
            " 19_林佳諄.docx\n",
            " 20220115142659.png\n",
            " 20220728191311.png\n",
            " 20220728191341.png\n",
            " 20220728191430.png\n",
            " 20220728191513.png\n",
            " 20220728191550.png\n",
            " 20220728191557.png\n",
            " 20220728191609.png\n",
            " 20220728191619.png\n",
            " 20220728191626.png\n",
            " 9e44e672c5c0980e.png\n",
            "'Adobe Photoshop 2022.zip'\n",
            " AI專題報告架構.gdoc\n",
            " Classroom\n",
            " CNN_notebooklm.gdoc\n",
            "'Colab Notebooks'\n",
            "'D1245692 9 16深度學習  林佳諄.gdoc'\n",
            "'D1245692 Digital Twins作業.gdoc'\n",
            " D1245692.docx\n",
            " D1245692_分類分析.gdoc\n",
            "'D1245692_大數據分析：商業應用與策略管理 .gdoc'\n",
            "'D1245692 林佳諄 0315數學實習.docx'\n",
            " D1245692_林佳諄_0430.gdoc\n",
            "'D1245692 林佳諄 0507.gdoc'\n",
            "'D1245692 林佳諄 0514.gdoc'\n",
            "'D1245692 林佳諄 0519.gdoc'\n",
            "'D1245692 林佳諄 0519雲端計算資安事件.gdoc'\n",
            "'D1245692 林佳諄 0520.gdoc'\n",
            "'D1245692 林佳諄 0526.gdoc'\n",
            "'D1245692 林佳諄 0528.gdoc'\n",
            "'D1245692 林佳諄 0916作業.gdoc'\n",
            "'D1245692 林佳諄 0923 notebooklm生成筆記.gdoc'\n",
            "'D1245692 林佳諄 9 9 CUDA.gdoc'\n",
            "'D1245692 林佳諄.gdoc'\n",
            " D1245692_林佳諄.gdoc\n",
            "'D1245692 林佳諄_Random Forest Learning Exercises.gdoc'\n",
            " D1245692林佳諄-中文思辨表達.docx\n",
            "'D1245692 林佳諄 人工智慧導論作業12:19.pdf'\n",
            "'D1245692 林佳諄 數學實習.docx'\n",
            " D1245692_林佳諄_智慧醫療.gdoc\n",
            "'D1245692 林佳諄 物聯網情境作業.gdoc'\n",
            "'D1245692 林佳諄 社會與心理期末報告.gdoc'\n",
            "'D1245692 林佳諄 自然語言處理0513.gdoc'\n",
            " D1245692_機器學習報告.gdoc\n",
            "'D1245692 英文語音溝通練習.gdoc'\n",
            "'D1245692 關聯分析.gdoc'\n",
            " data\n",
            "'Digital Image Fundamentals.gdoc'\n",
            " Docker實作過程.gdoc\n",
            "'Google Keep 說明文件.gdoc'\n",
            " htmlview\n",
            " IMG_0849.JPG\n",
            " IMG_0856.jpg\n",
            " IMG_0857.jpg\n",
            " IMG_20231211_122004.jpg\n",
            " IMG20250915172740.jpg\n",
            " IMG20250915172800.jpg\n",
            " IMG20250915172803.jpg\n",
            " IMG20250915172806.jpg\n",
            " IMG20250915172817.jpg\n",
            " IMG20250915172824.jpg\n",
            " IMG20250915172847.jpg\n",
            " IMG20250915172850.jpg\n",
            " IMG20250915172905.jpg\n",
            "'IMG20250915172916 (1).jpg'\n",
            " IMG20250915172916.jpg\n",
            " IMG20250915174004.jpg\n",
            " IMG20250915174011.jpg\n",
            " IMG20250915174018.jpg\n",
            " IMG20250915174030.jpg\n",
            " IMG20250915174038.jpg\n",
            " IMG20250915174043.jpg\n",
            " IMG20250915174050.jpg\n",
            " IMG20250915174140.jpg\n",
            " IMG20250915174143.jpg\n",
            " IMG20250915174810.jpg\n",
            " IMG20250915175303.jpg\n",
            " IMG20250915175309.jpg\n",
            " IMG20250915175344.jpg\n",
            " IMG20250915175347.jpg\n",
            " IMG20250915175401.jpg\n",
            " IMG20250915175407.jpg\n",
            " IMG20250915175410.jpg\n",
            "'Introduction to Embedded Machine Learning.gdoc'\n",
            "'MNIST 報告.gdoc'\n",
            " report.gdoc\n",
            " student-mat.csv\n",
            " week4雲端運算.gdoc\n",
            " 人在社子--個人議題擬定20240508-2.doc\n",
            " 原神\n",
            " 大數據分析.gdoc\n",
            "'未命名文件 (1).gdoc'\n",
            "'未命名文件 (2).gdoc'\n",
            "'未命名文件 (3).gdoc'\n",
            "'未命名文件 (4).gdoc'\n",
            " 未命名文件.gdoc\n",
            " 未命名的試算表.gsheet\n",
            "'案例分析-Microsoft Office D1245692 林佳諄.gdoc'\n",
            " 機器學習期末專題規劃書.gdoc\n",
            " 社會與心理.gdoc\n",
            " 第二組科學與人文報告.gdoc\n",
            " 統計學R語言.docx\n",
            " 考試題目Exam_1231v2.docx\n",
            " 自然語言處理報告.gdoc\n",
            " 逢甲大學生使用3c產品的現況調查.gform\n",
            " 隨機森林筆記.gdoc\n",
            " 音樂\n"
          ]
        }
      ]
    },
    {
      "cell_type": "code",
      "source": [
        "import tensorflow as tf\n",
        "from tensorflow.keras.preprocessing.image import ImageDataGenerator\n",
        "from tensorflow.keras.applications import VGG16\n",
        "from tensorflow.keras import layers, models, optimizers\n",
        "import matplotlib.pyplot as plt\n",
        "\n",
        "# === 1. 設定基本參數 ===\n",
        "IMG_SIZE = (224, 224)\n",
        "BATCH_SIZE = 32\n",
        "EPOCHS = 10\n",
        "\n",
        "train_dir = \"/content/drive/MyDrive/data/train\"\n",
        "val_dir = \"/content/drive/MyDrive/data/validation\""
      ],
      "metadata": {
        "id": "A5EdAUUIsWrS"
      },
      "execution_count": 9,
      "outputs": []
    },
    {
      "cell_type": "code",
      "source": [
        "# === 2. 資料前處理 ===\n",
        "train_datagen = ImageDataGenerator(\n",
        "    rescale=1.0/255,\n",
        "    rotation_range=20,\n",
        "    width_shift_range=0.2,\n",
        "    height_shift_range=0.2,\n",
        "    shear_range=0.2,\n",
        "    zoom_range=0.2,\n",
        "    horizontal_flip=True,\n",
        "    fill_mode='nearest'\n",
        ")\n",
        "\n",
        "val_datagen = ImageDataGenerator(rescale=1.0/255)\n",
        "\n",
        "train_gen = train_datagen.flow_from_directory(\n",
        "    train_dir,\n",
        "    target_size=IMG_SIZE,\n",
        "    batch_size=BATCH_SIZE,\n",
        "    class_mode='binary'  # 貓狗是二分類\n",
        ")\n",
        "\n",
        "val_gen = val_datagen.flow_from_directory(\n",
        "    val_dir,\n",
        "    target_size=IMG_SIZE,\n",
        "    batch_size=BATCH_SIZE,\n",
        "    class_mode='binary'\n",
        ")\n",
        "\n"
      ],
      "metadata": {
        "colab": {
          "base_uri": "https://localhost:8080/"
        },
        "id": "US3iidZDtk9x",
        "outputId": "9a52b811-cd20-4978-b07a-f79298ad403c"
      },
      "execution_count": 10,
      "outputs": [
        {
          "output_type": "stream",
          "name": "stdout",
          "text": [
            "Found 60 images belonging to 2 classes.\n",
            "Found 60 images belonging to 2 classes.\n"
          ]
        }
      ]
    },
    {
      "cell_type": "code",
      "source": [
        "# === 3. 載入 VGG16 預訓練模型 ===\n",
        "base_model = VGG16(weights='imagenet', include_top=False, input_shape=(224, 224, 3))\n",
        "\n",
        "# 凍結卷積層（只訓練後面自定義的分類層）\n",
        "base_model.trainable = False\n",
        "\n",
        "\n"
      ],
      "metadata": {
        "colab": {
          "base_uri": "https://localhost:8080/"
        },
        "id": "-fC5DHgZtn2a",
        "outputId": "5a75a2d0-5ffb-40ec-924b-1b6b6cd2fd25"
      },
      "execution_count": 11,
      "outputs": [
        {
          "output_type": "stream",
          "name": "stdout",
          "text": [
            "Downloading data from https://storage.googleapis.com/tensorflow/keras-applications/vgg16/vgg16_weights_tf_dim_ordering_tf_kernels_notop.h5\n",
            "\u001b[1m58889256/58889256\u001b[0m \u001b[32m━━━━━━━━━━━━━━━━━━━━\u001b[0m\u001b[37m\u001b[0m \u001b[1m4s\u001b[0m 0us/step\n"
          ]
        }
      ]
    },
    {
      "cell_type": "code",
      "source": [
        "# === 4. 建立完整模型 ===\n",
        "model = models.Sequential([\n",
        "    base_model,\n",
        "    layers.Flatten(),\n",
        "    layers.Dense(256, activation='relu'),\n",
        "    layers.Dropout(0.5),\n",
        "    layers.Dense(1, activation='sigmoid')  # sigmoid 用於二分類\n",
        "])\n",
        "\n"
      ],
      "metadata": {
        "id": "y_WxtNgetq8z"
      },
      "execution_count": 12,
      "outputs": []
    },
    {
      "cell_type": "code",
      "source": [
        "# === 5. 編譯模型 ===\n",
        "model.compile(\n",
        "    optimizer=optimizers.Adam(learning_rate=1e-4),\n",
        "    loss='binary_crossentropy',\n",
        "    metrics=['accuracy']\n",
        ")\n",
        "\n"
      ],
      "metadata": {
        "id": "WUPSmZ_Htsns"
      },
      "execution_count": 13,
      "outputs": []
    },
    {
      "cell_type": "code",
      "source": [
        "# === 6. 模型訓練 ===\n",
        "history = model.fit(\n",
        "    train_gen,\n",
        "    epochs=EPOCHS,\n",
        "    validation_data=val_gen\n",
        ")\n"
      ],
      "metadata": {
        "colab": {
          "base_uri": "https://localhost:8080/"
        },
        "id": "TcajvVUBtuzD",
        "outputId": "3b336fd4-7046-4f7f-9241-3d2dc090ce55"
      },
      "execution_count": 14,
      "outputs": [
        {
          "output_type": "stream",
          "name": "stderr",
          "text": [
            "/usr/local/lib/python3.12/dist-packages/keras/src/trainers/data_adapters/py_dataset_adapter.py:121: UserWarning: Your `PyDataset` class should call `super().__init__(**kwargs)` in its constructor. `**kwargs` can include `workers`, `use_multiprocessing`, `max_queue_size`. Do not pass these arguments to `fit()`, as they will be ignored.\n",
            "  self._warn_if_super_not_called()\n"
          ]
        },
        {
          "output_type": "stream",
          "name": "stdout",
          "text": [
            "Epoch 1/10\n",
            "\u001b[1m2/2\u001b[0m \u001b[32m━━━━━━━━━━━━━━━━━━━━\u001b[0m\u001b[37m\u001b[0m \u001b[1m73s\u001b[0m 57s/step - accuracy: 0.4243 - loss: 1.0627 - val_accuracy: 0.5333 - val_loss: 0.7676\n",
            "Epoch 2/10\n",
            "\u001b[1m2/2\u001b[0m \u001b[32m━━━━━━━━━━━━━━━━━━━━\u001b[0m\u001b[37m\u001b[0m \u001b[1m1s\u001b[0m 884ms/step - accuracy: 0.6410 - loss: 0.6962 - val_accuracy: 0.5000 - val_loss: 0.8970\n",
            "Epoch 3/10\n",
            "\u001b[1m2/2\u001b[0m \u001b[32m━━━━━━━━━━━━━━━━━━━━\u001b[0m\u001b[37m\u001b[0m \u001b[1m1s\u001b[0m 870ms/step - accuracy: 0.5542 - loss: 0.8827 - val_accuracy: 0.6667 - val_loss: 0.6039\n",
            "Epoch 4/10\n",
            "\u001b[1m2/2\u001b[0m \u001b[32m━━━━━━━━━━━━━━━━━━━━\u001b[0m\u001b[37m\u001b[0m \u001b[1m1s\u001b[0m 951ms/step - accuracy: 0.6484 - loss: 0.6836 - val_accuracy: 0.6333 - val_loss: 0.6580\n",
            "Epoch 5/10\n",
            "\u001b[1m2/2\u001b[0m \u001b[32m━━━━━━━━━━━━━━━━━━━━\u001b[0m\u001b[37m\u001b[0m \u001b[1m2s\u001b[0m 1s/step - accuracy: 0.7397 - loss: 0.5488 - val_accuracy: 0.7167 - val_loss: 0.5577\n",
            "Epoch 6/10\n",
            "\u001b[1m2/2\u001b[0m \u001b[32m━━━━━━━━━━━━━━━━━━━━\u001b[0m\u001b[37m\u001b[0m \u001b[1m2s\u001b[0m 1s/step - accuracy: 0.7611 - loss: 0.4502 - val_accuracy: 0.6167 - val_loss: 0.6178\n",
            "Epoch 7/10\n",
            "\u001b[1m2/2\u001b[0m \u001b[32m━━━━━━━━━━━━━━━━━━━━\u001b[0m\u001b[37m\u001b[0m \u001b[1m2s\u001b[0m 961ms/step - accuracy: 0.7738 - loss: 0.4935 - val_accuracy: 0.6833 - val_loss: 0.5844\n",
            "Epoch 8/10\n",
            "\u001b[1m2/2\u001b[0m \u001b[32m━━━━━━━━━━━━━━━━━━━━\u001b[0m\u001b[37m\u001b[0m \u001b[1m1s\u001b[0m 949ms/step - accuracy: 0.8183 - loss: 0.3855 - val_accuracy: 0.7500 - val_loss: 0.5045\n",
            "Epoch 9/10\n",
            "\u001b[1m2/2\u001b[0m \u001b[32m━━━━━━━━━━━━━━━━━━━━\u001b[0m\u001b[37m\u001b[0m \u001b[1m1s\u001b[0m 884ms/step - accuracy: 0.8799 - loss: 0.3466 - val_accuracy: 0.7667 - val_loss: 0.4884\n",
            "Epoch 10/10\n",
            "\u001b[1m2/2\u001b[0m \u001b[32m━━━━━━━━━━━━━━━━━━━━\u001b[0m\u001b[37m\u001b[0m \u001b[1m1s\u001b[0m 862ms/step - accuracy: 0.7944 - loss: 0.4090 - val_accuracy: 0.7167 - val_loss: 0.4928\n"
          ]
        }
      ]
    },
    {
      "cell_type": "code",
      "source": [
        "# === 7. 繪製訓練曲線 ===\n",
        "plt.figure(figsize=(10,4))\n",
        "plt.subplot(1,2,1)\n",
        "plt.plot(history.history['accuracy'], label='train acc')\n",
        "plt.plot(history.history['val_accuracy'], label='val acc')\n",
        "plt.legend()\n",
        "plt.title(\"Accuracy\")\n",
        "\n",
        "plt.subplot(1,2,2)\n",
        "plt.plot(history.history['loss'], label='train loss')\n",
        "plt.plot(history.history['val_loss'], label='val loss')\n",
        "plt.legend()\n",
        "plt.title(\"Loss\")\n",
        "\n",
        "plt.show()\n",
        "\n",
        "# === 8. 儲存模型 ===\n",
        "model.save(\"vgg16_cats_dogs.h5\")"
      ],
      "metadata": {
        "colab": {
          "base_uri": "https://localhost:8080/",
          "height": 408
        },
        "id": "Rz_VYde5twTC",
        "outputId": "a09da675-8da5-463c-9a36-a70732d5f51c"
      },
      "execution_count": 15,
      "outputs": [
        {
          "output_type": "display_data",
          "data": {
            "text/plain": [
              "<Figure size 1000x400 with 2 Axes>"
            ],
            "image/png": "[encoded data removed]"
          },
          "metadata": {}
        },
        {
          "output_type": "stream",
          "name": "stderr",
          "text": [
            "WARNING:absl:You are saving your model as an HDF5 file via `model.save()` or `keras.saving.save_model(model)`. This file format is considered legacy. We recommend using instead the native Keras format, e.g. `model.save('my_model.keras')` or `keras.saving.save_model(model, 'my_model.keras')`. \n"
          ]
        }
      ]
    }
  ]
}